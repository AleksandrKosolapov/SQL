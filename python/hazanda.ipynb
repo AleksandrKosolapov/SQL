{
 "cells": [
  {
   "cell_type": "code",
   "execution_count": 1,
   "metadata": {},
   "outputs": [],
   "source": [
    "import psycopg2\n",
    "import os\n",
    "import pandas as pd\n",
    "import numpy as np"
   ]
  },
  {
   "cell_type": "code",
   "execution_count": null,
   "metadata": {},
   "outputs": [],
   "source": [
    "params = {\n",
    "    \"host\": os.environ['APP_POSTGRES_HOST'],\n",
    "    \"port\": os.environ['APP_POSTGRES_PORT'],\n",
    "    \"user\": 'postgres'\n",
    "}\n",
    "conn = psycopg2.connect(**params)\n",
    "psycopg2.extensions.register_type(\n",
    "    psycopg2.extensions.UNICODE,\n",
    "    conn\n",
    ")\n",
    "conn.set_isolation_level(\n",
    "    psycopg2.extensions.ISOLATION_LEVEL_AUTOCOMMIT\n",
    ")\n",
    "cursor = conn.cursor()"
   ]
  },
  {
   "cell_type": "code",
   "execution_count": null,
   "metadata": {},
   "outputs": [],
   "source": [
    "tickets=\"select * from tickets\"\n",
    "users=\"select * from users\"\n",
    "chat=\"select * from chat\"\n",
    "chat_messages=\"select * from chat_messages\"\n",
    "notices=\"select * from notices\"\n",
    "hard_tickets=\"\"\"CREATE VIEW places AS SELECT resolved_by_id as expert_id, count(id) as count \n",
    "                    FROM tickets WHERE resolved_by_id IS NOT NULL GROUP BY resolved_by_id \n",
    "                        ORDER BY count DESC\n",
    "                CREATE VIEW ranks AS SELECT name, expert_id, count, row_number() over (order by count asc) as place \n",
    "                    FROM places JOIN users ON places.expert_id=users.id\n",
    "                with t1 as (SELECT * FROM notices) SELECT ticket_id as ticket, count(type) as count_tag, array_agg(type) as types, array_agg(text) as notices, array_agg(user_id) as experts, round(avg(place),1) as difficulty \n",
    "                    FROM t1 JOIN ranks ON user_id=expert_id WHERE  type <> 'SOLVED' GROUP BY ticket \n",
    "                        ORDER BY count_tag DESC, difficulty DESC LIMIT 20\n",
    "\"\"\"\n",
    "\n",
    "#создаем объект tickets\n",
    "cursor.execute(tickets)\n",
    "tickets=pd.DataFrame([a for a in cursor.fetchall()], columns=['id', 'has_attachment', 'status', 'text', 'user_id', 'resolved_by', 'target_id', 'visits_count_admin', 'visits_count_expert', 'visits_count_user'])\n",
    "conn.commit()\n",
    "tickets.head()\n",
    "\n",
    "#создаем объект users\n",
    "cursor.execute(users)\n",
    "users=pd.DataFrame([a for a in cursor.fetchall()], columns=['id', 'email', 'login', 'mailing_enable', 'name', 'status', 'type', 'oauth_source'])\n",
    "conn.commit()\n",
    "users.head()\n",
    "\n",
    "#создаем объект chat\n",
    "cursor.execute(chat)\n",
    "chat=pd.DataFrame([a for a in cursor.fetchall()], columns=['id', 'target_id', 'ticket_id'])\n",
    "conn.commit()\n",
    "chat.head()\n",
    "\n",
    "#создаем объект chat_messages\n",
    "cursor.execute(chat_messages)\n",
    "chat_messages=pd.DataFrame([a for a in cursor.fetchall()], columns=['id', 'text', 'author_id', 'chat_id'])\n",
    "conn.commit()\n",
    "chat_messages.head()\n",
    "\n",
    "#создаем объект notices\n",
    "cursor.execute(notices)\n",
    "notices=pd.DataFrame([a for a in cursor.fetchall()], columns=['id', 'ticket_id', 'related_type', 'text', 'type', 'user_id'])\n",
    "conn.commit()\n",
    "notices.head()\n",
    "\n",
    "#создаем объект hard_tickets\n",
    "cursor.execute(hard_tickets)\n",
    "hard_tickets=pd.DataFrame([a for a in cursor.fetchall()], columns=['ticket_id', 'count_tag', 'types', 'notices', 'experts', 'difficulty'])\n",
    "conn.commit()\n",
    "hard_tickets.head()"
   ]
  },
  {
   "cell_type": "code",
   "execution_count": null,
   "metadata": {},
   "outputs": [],
   "source": [
    "# Получение списка чатов с наибольшим количеством сообщений. Задача - найти инсайты для \n",
    "# расширения возможностей сервиса элементами соцсети/мессенджера \n",
    "# в первую очередь для возможной мобильной версии сервиса.\n",
    "# select chat_id, count(chat_id) as count FROM chat_messages GROUP BY chat_id ORDER BY count DESC LIMIT 10;\n",
    "\n",
    "df_chats=chat_messages.groupby('chat_id').count().sort_values(ascending=false)\n",
    "df_chats.to_csv('data.csv', encoding='utf-8')\n",
    "df_chats"
   ]
  },
  {
   "cell_type": "code",
   "execution_count": null,
   "metadata": {},
   "outputs": [],
   "source": [
    "# Получение распределения авторизаций в сервисе через профили соцсетей уникальными пользователям:\n",
    "# SELECT oauth_source, count(oauth_source) FROM users WHERE oauth_source IS NOT NULL GROUP BY oauth_source;\n",
    "\n",
    "df_openid=users.groupby[pd.notnull(users.oauth_source)].count()"
   ]
  },
  {
   "cell_type": "code",
   "execution_count": null,
   "metadata": {},
   "outputs": [],
   "source": [
    "#Определим количество заметок в каждом типе:\n",
    "df_notices=notices.groupby('type').count().sort_values(ascending=False)"
   ]
  },
  {
   "cell_type": "code",
   "execution_count": null,
   "metadata": {},
   "outputs": [],
   "source": [
    "#Определим число тикетов с атачем и без:\n",
    "df_tickets=tickets.groupby('has_attachment').count()"
   ]
  },
  {
   "cell_type": "code",
   "execution_count": null,
   "metadata": {},
   "outputs": [],
   "source": [
    "#Определим сколько тикетов находятся в том или ином статусе:\n",
    "df_status=tickets.groupby('resolved_by_id').count()"
   ]
  }
 ],
 "metadata": {
  "kernelspec": {
   "display_name": "Python 3",
   "language": "python",
   "name": "python3"
  },
  "language_info": {
   "codemirror_mode": {
    "name": "ipython",
    "version": 3
   },
   "file_extension": ".py",
   "mimetype": "text/x-python",
   "name": "python",
   "nbconvert_exporter": "python",
   "pygments_lexer": "ipython3",
   "version": "3.6.5"
  }
 },
 "nbformat": 4,
 "nbformat_minor": 2
}
